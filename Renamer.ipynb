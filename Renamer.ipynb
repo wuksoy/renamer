{
 "cells": [
  {
   "cell_type": "code",
   "execution_count": null,
   "metadata": {},
   "outputs": [],
   "source": [
    "import os\n",
    "path = 'path\\\\to\\\\file'\n",
    "for count, filename in enumerate(os.listdir(path)):\n",
    "    # remove unwanted substrings from filename\n",
    "    delete =['list of substrings to delete']\n",
    "    newname = filename\n",
    "    for x in delete:\n",
    "        newname = newname.replace(x,'')\n",
    "        \n",
    "    # add substring to filename\n",
    "    newname = \"Name Prefix\" + newname\n",
    "        \n",
    "    # rename file\n",
    "    src = path + '\\\\' + filename\n",
    "    dst = path + '\\\\' + newname\n",
    "    os.rename(src,dst)"
   ]
  }
 ],
 "metadata": {
  "kernelspec": {
   "display_name": "Python 3",
   "language": "python",
   "name": "python3"
  },
  "language_info": {
   "codemirror_mode": {
    "name": "ipython",
    "version": 3
   },
   "file_extension": ".py",
   "mimetype": "text/x-python",
   "name": "python",
   "nbconvert_exporter": "python",
   "pygments_lexer": "ipython3",
   "version": "3.7.4"
  }
 },
 "nbformat": 4,
 "nbformat_minor": 2
}